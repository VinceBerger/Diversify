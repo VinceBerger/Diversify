{
 "cells": [
  {
   "cell_type": "markdown",
   "metadata": {},
   "source": [
    "## Web scraping"
   ]
  },
  {
   "cell_type": "code",
   "execution_count": 25,
   "metadata": {},
   "outputs": [
    {
     "name": "stdout",
     "output_type": "stream",
     "text": [
      "PH 100\n"
     ]
    }
   ],
   "source": [
    "import requests\n",
    "\n",
    "headers = {\n",
    "    'authority': 'api.zendepot.de',\n",
    "    'accept': 'application/json, text/plain, /',\n",
    "    'accept-language': 'de-DE,de;q=0.9,en-US;q=0.8,en;q=0.7,fr;q=0.6',\n",
    "    'origin': 'https://zendepot.de',\n",
    "    'referer': 'https://zendepot.de/',\n",
    "    'sec-ch-ua': '\"Not?A_Brand\";v=\"8\", \"Chromium\";v=\"108\", \"Google Chrome\";v=\"108\"',\n",
    "    'sec-ch-ua-mobile': '?0',\n",
    "    'sec-ch-ua-platform': '\"Windows\"',\n",
    "    'sec-fetch-dest': 'empty',\n",
    "    'sec-fetch-mode': 'cors',\n",
    "    'sec-fetch-site': 'same-site',\n",
    "    'user-agent': 'Mozilla/5.0 (Windows NT 10.0; Win64; x64) AppleWebKit/537.36 (KHTML, like Gecko) Chrome/108.0.0.0 Safari/537.36',\n",
    "}\n",
    "\n",
    "# For Schleife geht alle in CSV Datei gespeicherten ISINs durch\n",
    "\n",
    "# for link in ISINs\n",
    "#    response = requests \n",
    "# isins = [\"isin1\", \"isin2\"]\n",
    "# for link in isins:\n",
    "#   response = requests.get(f\"https://api.zendepot.de/finance/etf/{link}\")\n",
    "\n",
    "\n",
    "ISIN = \"LU0592215403\"\n",
    "\n",
    "response = requests.get('https://api.zendepot.de/finance/etf/'+str(ISIN), headers=headers)\n",
    "data2 = {\"Countries\": \"\", \"Holdings\": \"\", \"Sectors\": \"\"}\n",
    "responseData = response.json()\n",
    "for scrapedData in responseData:\n",
    "    data2[\"Countries\"] = response.json()[\"exposure\"][\"countries\"]\n",
    "    data2[\"Holdings\"] = response.json()[\"exposure\"][\"holdings\"]\n",
    "    data2[\"Sectors\"] = response.json()[\"exposure\"][\"sectors\"]\n",
    "\n",
    "\n",
    "for info in data2[\"Countries\"]: \n",
    "    print(info[\"name\"], info[\"percentage\"]*100)\n",
    "\n",
    "#for info in data[\"Holdings\"]: \n",
    " #   print(info[\"name\"], info[\"percentage\"]*100)\n",
    "    \n",
    "#for info in data[\"Sectors\"]: \n",
    " #   print(info[\"name\"], info[\"percentage\"]*100)    "
   ]
  },
  {
   "cell_type": "markdown",
   "metadata": {},
   "source": [
    "## Länderverteilung eines ETFs"
   ]
  },
  {
   "cell_type": "code",
   "execution_count": 8,
   "metadata": {
    "scrolled": true
   },
   "outputs": [
    {
     "name": "stdout",
     "output_type": "stream",
     "text": [
      "US 68.56\n",
      "JP 6.03\n",
      "other 5.9\n",
      "GB 4.25\n",
      "CA 3.47\n",
      "FR 3.27\n",
      "CH 2.81\n",
      "DE 2.27\n",
      "AU 2.22\n",
      "NL 1.24\n"
     ]
    }
   ],
   "source": [
    "headers = {\n",
    "    'authority': 'api.zendepot.de',\n",
    "    'accept': 'application/json, text/plain, /',\n",
    "    'accept-language': 'de-DE,de;q=0.9,en-US;q=0.8,en;q=0.7,fr;q=0.6',\n",
    "    'origin': 'https://zendepot.de',\n",
    "    'referer': 'https://zendepot.de/',\n",
    "    'sec-ch-ua': '\"Not?A_Brand\";v=\"8\", \"Chromium\";v=\"108\", \"Google Chrome\";v=\"108\"',\n",
    "    'sec-ch-ua-mobile': '?0',\n",
    "    'sec-ch-ua-platform': '\"Windows\"',\n",
    "    'sec-fetch-dest': 'empty',\n",
    "    'sec-fetch-mode': 'cors',\n",
    "    'sec-fetch-site': 'same-site',\n",
    "    'user-agent': 'Mozilla/5.0 (Windows NT 10.0; Win64; x64) AppleWebKit/537.36 (KHTML, like Gecko) Chrome/108.0.0.0 Safari/537.36',\n",
    "}\n",
    "\n",
    "\n",
    "ISIN = \"IE00B4L5Y983\"\n",
    "\n",
    "response = requests.get('https://api.zendepot.de/finance/etf/'+str(ISIN), headers=headers)\n",
    "data = {\"Countries\": \"\", \"Holdings\": \"\", \"Sectors\": \"\"}\n",
    "responseData = response.json()\n",
    "for scrapedData in responseData:\n",
    "    data[\"Countries\"] = response.json()[\"exposure\"][\"countries\"]\n",
    "   # data[\"Holdings\"] = response.json()[\"exposure\"][\"holdings\"]\n",
    "   # data[\"Sectors\"] = response.json()[\"exposure\"][\"sectors\"]\n",
    "\n",
    "\n",
    "for info in data[\"Countries\"]: \n",
    "    print(info[\"name\"], info[\"percentage\"]*100)"
   ]
  },
  {
   "cell_type": "markdown",
   "metadata": {},
   "source": [
    "## ETF Prozent Verteilung"
   ]
  },
  {
   "cell_type": "code",
   "execution_count": 30,
   "metadata": {
    "scrolled": true
   },
   "outputs": [
    {
     "name": "stdout",
     "output_type": "stream",
     "text": [
      "US 3.2647619047619045\n",
      "JP 0.28714285714285714\n",
      "other 0.28095238095238095\n",
      "GB 0.20238095238095236\n",
      "CA 0.16523809523809524\n",
      "FR 0.1557142857142857\n",
      "CH 0.1338095238095238\n",
      "DE 0.1080952380952381\n",
      "AU 0.10571428571428572\n",
      "NL 0.05904761904761904\n",
      "PH 95.23809523809523\n"
     ]
    }
   ],
   "source": [
    "x = 500\n",
    "y= 10000\n",
    "\n",
    "# Länderverteilung in ETF 1\n",
    "for info in data[\"Countries\"]:\n",
    "    print(info[\"name\"], x/(x+y)*info[\"percentage\"]*100)\n",
    "    \n",
    "# Länderverteilung in ETF 2\n",
    "for info in data2[\"Countries\"]:\n",
    "    print(info[\"name\"], y/(x+y)*info[\"percentage\"]*100)    "
   ]
  },
  {
   "cell_type": "markdown",
   "metadata": {},
   "source": [
    "## Test mehrere ISINs eingeben\n"
   ]
  },
  {
   "cell_type": "code",
   "execution_count": 61,
   "metadata": {},
   "outputs": [
    {
     "name": "stdout",
     "output_type": "stream",
     "text": [
      "US 40.91\n",
      "CN 12.14\n",
      "DK 9.48\n",
      "ES 8.71\n",
      "other 6.150000000000001\n",
      "BR 4.83\n",
      "PT 3.84\n",
      "CA 3.32\n",
      "IN 2.9\n",
      "KR 2.05\n",
      "DE 2.02\n",
      "JP 2.0\n",
      "TH 1.6500000000000001\n"
     ]
    }
   ],
   "source": [
    "import requests\n",
    "\n",
    "headers = {\n",
    "    'authority': 'api.zendepot.de',\n",
    "    'accept': 'application/json, text/plain, /',\n",
    "    'accept-language': 'de-DE,de;q=0.9,en-US;q=0.8,en;q=0.7,fr;q=0.6',\n",
    "    'origin': 'https://zendepot.de',\n",
    "    'referer': 'https://zendepot.de/',\n",
    "    'sec-ch-ua': '\"Not?A_Brand\";v=\"8\", \"Chromium\";v=\"108\", \"Google Chrome\";v=\"108\"',\n",
    "    'sec-ch-ua-mobile': '?0',\n",
    "    'sec-ch-ua-platform': '\"Windows\"',\n",
    "    'sec-fetch-dest': 'empty',\n",
    "    'sec-fetch-mode': 'cors',\n",
    "    'sec-fetch-site': 'same-site',\n",
    "    'user-agent': 'Mozilla/5.0 (Windows NT 10.0; Win64; x64) AppleWebKit/537.36 (KHTML, like Gecko) Chrome/108.0.0.0 Safari/537.36',\n",
    "}\n",
    "\n",
    "\n",
    "WKN = [\"A0RPWH\",\"A0MW0M\"]\n",
    "ISIN = [\"IE00B4L5Y983\",\"IE00B1XNHC34\"]\n",
    "\n",
    "\n",
    "for etf in ISIN:\n",
    "    response = requests.get('https://api.zendepot.de/finance/etf/'+str(etf), headers=headers)\n",
    "    data = {\"Countries\": \"\", \"Holdings\": \"\", \"Sectors\": \"\"}\n",
    "    responseData = response.json()\n",
    "    \n",
    "    for scrapedData in responseData:\n",
    "        data[\"Countries\"] = response.json()[\"exposure\"][\"countries\"]\n",
    "        data[\"Holdings\"] = response.json()[\"exposure\"][\"holdings\"]\n",
    "        data[\"Sectors\"] = response.json()[\"exposure\"][\"sectors\"]\n",
    "\n",
    "\n",
    "for info in data[\"Countries\"]: \n",
    "    print(info[\"name\"], info[\"percentage\"]*100)\n",
    "\n"
   ]
  },
  {
   "cell_type": "code",
   "execution_count": 45,
   "metadata": {},
   "outputs": [
    {
     "name": "stdout",
     "output_type": "stream",
     "text": [
      "IE00B4L5Y983\n",
      "IE00B1XNHC34\n",
      "LU0592215403\n"
     ]
    }
   ],
   "source": [
    "ISIN = [\"IE00B4L5Y983\",\"IE00B1XNHC34\",\"LU0592215403\"]\n",
    "\n",
    "for x in ISIN:\n",
    "    print(x)"
   ]
  }
 ],
 "metadata": {
  "kernelspec": {
   "display_name": "Python 3 (ipykernel)",
   "language": "python",
   "name": "python3"
  },
  "language_info": {
   "codemirror_mode": {
    "name": "ipython",
    "version": 3
   },
   "file_extension": ".py",
   "mimetype": "text/x-python",
   "name": "python",
   "nbconvert_exporter": "python",
   "pygments_lexer": "ipython3",
   "version": "3.9.13"
  }
 },
 "nbformat": 4,
 "nbformat_minor": 4
}
